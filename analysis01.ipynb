{
 "cells": [
  {
   "cell_type": "markdown",
   "id": "a2d2c8a9",
   "metadata": {},
   "source": [
    "# A) pre-processing"
   ]
  },
  {
   "cell_type": "markdown",
   "id": "198808a4",
   "metadata": {},
   "source": [
    "## 0. import packages"
   ]
  },
  {
   "cell_type": "code",
   "execution_count": 1,
   "id": "aecef63c",
   "metadata": {
    "scrolled": true
   },
   "outputs": [
    {
     "name": "stderr",
     "output_type": "stream",
     "text": [
      "Using Slovakia server backend.\n"
     ]
    }
   ],
   "source": [
    "import pandas as pd\n",
    "from geopy.geocoders import Nominatim\n",
    "from openpyxl import load_workbook\n",
    "import translators as ts\n",
    "import pycountry"
   ]
  },
  {
   "cell_type": "markdown",
   "id": "d4e5cf48",
   "metadata": {},
   "source": [
    "## 0A. functions"
   ]
  },
  {
   "cell_type": "code",
   "execution_count": 25,
   "id": "6364dcc2",
   "metadata": {},
   "outputs": [],
   "source": [
    "# remove not translatable colors\n",
    "def changeStr(rrr):\n",
    "    if \"mét.\" in rrr:\n",
    "        return rrr[:-5]\n",
    "    else:\n",
    "        return rrr\n",
    "\n",
    "# simplify body type name\n",
    "def changeBody(b):\n",
    "    if \" / \" in b:\n",
    "        return b.split(\" / \")[0]\n",
    "    else:\n",
    "        return b"
   ]
  },
  {
   "cell_type": "code",
   "execution_count": 2,
   "id": "9d75d030",
   "metadata": {},
   "outputs": [],
   "source": [
    "# remove pandas formatting from excel\n",
    "def removeFormatting(ws):\n",
    "    # ws is not the worksheet name, but the worksheet object\n",
    "    for row in ws.iter_rows():\n",
    "        for cell in row:\n",
    "            cell.style = 'Normal'"
   ]
  },
  {
   "cell_type": "code",
   "execution_count": 28,
   "id": "8d85f31b",
   "metadata": {},
   "outputs": [],
   "source": [
    "# translate to english german content\n",
    "def getEnglish(lst):\n",
    "    di = {'Name': lst}\n",
    "    vls = list()\n",
    "    try:\n",
    "        for v in di.values():\n",
    "            for i in v:\n",
    "                if i != \"null\":\n",
    "                    vls.append(ts.google(i, from_language='de', to_language='en'))\n",
    "                else:\n",
    "                    vls.append('Other')\n",
    "        di2 = {'Values':vls}\n",
    "        di.update(di2)\n",
    "        return di\n",
    "    except:\n",
    "        return di"
   ]
  },
  {
   "cell_type": "code",
   "execution_count": 29,
   "id": "da059d0a",
   "metadata": {},
   "outputs": [],
   "source": [
    "# obtain country code based on city name\n",
    "def getCountry(lst):\n",
    "    di = {'Name': lst}\n",
    "    vls = list()\n",
    "    geolocator = Nominatim(user_agent=\"MyApp\")\n",
    "    try:\n",
    "        for v in di.values():\n",
    "            for i in v:\n",
    "                if i != \"null\":\n",
    "                    location = geolocator.geocode(i, language=\"en\") \n",
    "                    ctyname = list(location.address.split(\", \"))[-1]\n",
    "                    ctycode = pycountry.countries.get(name=ctyname).alpha_2\n",
    "                    vls.append(ctycode)\n",
    "                else:\n",
    "                    vls.append('Other')\n",
    "        di2 = {'Values':vls}\n",
    "        di.update(di2)\n",
    "        return di\n",
    "    except:\n",
    "        return di"
   ]
  },
  {
   "cell_type": "code",
   "execution_count": 38,
   "id": "7d669613",
   "metadata": {},
   "outputs": [],
   "source": [
    "# derive mileage consumption unit\n",
    "def consUnit(txt):\n",
    "    if 'l/100km' in txt:\n",
    "        return 'l_km_consumption'\n",
    "    else:\n",
    "        return 'null'\n",
    "\n",
    "# derive mileage unit    \n",
    "def mil(txt):\n",
    "    if 'km' in txt:\n",
    "        return 'kilometer'\n",
    "    else:\n",
    "        return 'mile'\n",
    "# derive Left Hand Drive - LHD\n",
    "# or Right Hand Drive from Country Code\n",
    "def drive(txt):\n",
    "    if 'GB' in txt:\n",
    "        return 'RHD'\n",
    "    else:\n",
    "        return 'LHD'\n",
    "\n",
    "# format mileage in the required format\n",
    "def mileage_conv(val):\n",
    "    val = int(val)\n",
    "    return '{0:.2f}'.format(val)"
   ]
  },
  {
   "cell_type": "markdown",
   "id": "daee816f",
   "metadata": {},
   "source": [
    "## 1. import data"
   ]
  },
  {
   "cell_type": "code",
   "execution_count": 3,
   "id": "d443c4f9",
   "metadata": {},
   "outputs": [
    {
     "name": "stdout",
     "output_type": "stream",
     "text": [
      "<class 'pandas.core.frame.DataFrame'>\n",
      "RangeIndex: 21906 entries, 0 to 21905\n",
      "Data columns (total 9 columns):\n",
      " #   Column            Non-Null Count  Dtype \n",
      "---  ------            --------------  ----- \n",
      " 0   ID                21906 non-null  int64 \n",
      " 1   MakeText          21906 non-null  object\n",
      " 2   TypeName          21906 non-null  object\n",
      " 3   TypeNameFull      21906 non-null  object\n",
      " 4   ModelText         20957 non-null  object\n",
      " 5   ModelTypeText     21906 non-null  object\n",
      " 6   Attribute Names   21906 non-null  object\n",
      " 7   Attribute Values  21906 non-null  object\n",
      " 8   entity_id         21906 non-null  object\n",
      "dtypes: int64(1), object(8)\n",
      "memory usage: 1.5+ MB\n"
     ]
    }
   ],
   "source": [
    "raw = pd.read_json('rawdata/supplier_car.json', lines=True)\n",
    "raw.info()"
   ]
  },
  {
   "cell_type": "markdown",
   "id": "9cb5ddc0",
   "metadata": {},
   "source": [
    "## 2. data exploration"
   ]
  },
  {
   "cell_type": "code",
   "execution_count": 4,
   "id": "47a95ddc",
   "metadata": {},
   "outputs": [
    {
     "data": {
      "text/html": [
       "<div>\n",
       "<style scoped>\n",
       "    .dataframe tbody tr th:only-of-type {\n",
       "        vertical-align: middle;\n",
       "    }\n",
       "\n",
       "    .dataframe tbody tr th {\n",
       "        vertical-align: top;\n",
       "    }\n",
       "\n",
       "    .dataframe thead th {\n",
       "        text-align: right;\n",
       "    }\n",
       "</style>\n",
       "<table border=\"1\" class=\"dataframe\">\n",
       "  <thead>\n",
       "    <tr style=\"text-align: right;\">\n",
       "      <th></th>\n",
       "      <th>ID</th>\n",
       "      <th>MakeText</th>\n",
       "      <th>TypeName</th>\n",
       "      <th>TypeNameFull</th>\n",
       "      <th>ModelText</th>\n",
       "      <th>ModelTypeText</th>\n",
       "      <th>Attribute Names</th>\n",
       "      <th>Attribute Values</th>\n",
       "      <th>entity_id</th>\n",
       "    </tr>\n",
       "  </thead>\n",
       "  <tbody>\n",
       "    <tr>\n",
       "      <th>0</th>\n",
       "      <td>976</td>\n",
       "      <td>MERCEDES-BENZ</td>\n",
       "      <td>McLaren</td>\n",
       "      <td>MERCEDES-BENZ SLR McLaren</td>\n",
       "      <td>SLR</td>\n",
       "      <td>SLR McLaren</td>\n",
       "      <td>Seats</td>\n",
       "      <td>2</td>\n",
       "      <td>0001fda6-192b-46a8-bc08-0e833f904eed</td>\n",
       "    </tr>\n",
       "    <tr>\n",
       "      <th>1</th>\n",
       "      <td>1059</td>\n",
       "      <td>MERCEDES-BENZ</td>\n",
       "      <td>ML 350 Inspiration</td>\n",
       "      <td>MERCEDES-BENZ ML 350 Inspiration</td>\n",
       "      <td>ML 350</td>\n",
       "      <td>ML 350 Inspiration</td>\n",
       "      <td>Hp</td>\n",
       "      <td>235</td>\n",
       "      <td>00107c2d-0071-4475-88f0-810133638b7e</td>\n",
       "    </tr>\n",
       "    <tr>\n",
       "      <th>2</th>\n",
       "      <td>524</td>\n",
       "      <td>AUDI</td>\n",
       "      <td>S6 Avant quattro 4.2</td>\n",
       "      <td>AUDI S6 Avant quattro 4.2</td>\n",
       "      <td>S6</td>\n",
       "      <td>S6 Avant quattro 4.2</td>\n",
       "      <td>FuelTypeText</td>\n",
       "      <td>Benzin</td>\n",
       "      <td>00126794-a8ef-48fe-93d6-43cfc69fbfb6</td>\n",
       "    </tr>\n",
       "    <tr>\n",
       "      <th>3</th>\n",
       "      <td>608</td>\n",
       "      <td>SAAB</td>\n",
       "      <td>9-3 2.0i-16 TS Aero</td>\n",
       "      <td>SAAB 9-3 2.0i-16 TS Aero</td>\n",
       "      <td>9-3</td>\n",
       "      <td>9-3 2.0i-16 TS Aero</td>\n",
       "      <td>Ccm</td>\n",
       "      <td>1985</td>\n",
       "      <td>00182529-1bf7-4f93-89fa-2e8e634b2c9d</td>\n",
       "    </tr>\n",
       "    <tr>\n",
       "      <th>4</th>\n",
       "      <td>726</td>\n",
       "      <td>PORSCHE</td>\n",
       "      <td>911 Turbo Cabrio</td>\n",
       "      <td>PORSCHE 911 Turbo Cabrio</td>\n",
       "      <td>911</td>\n",
       "      <td>911 Turbo Cabrio</td>\n",
       "      <td>BodyColorText</td>\n",
       "      <td>schwarz mét.</td>\n",
       "      <td>002d30c2-43f6-4905-868f-160dbc445c56</td>\n",
       "    </tr>\n",
       "  </tbody>\n",
       "</table>\n",
       "</div>"
      ],
      "text/plain": [
       "     ID       MakeText              TypeName  \\\n",
       "0   976  MERCEDES-BENZ               McLaren   \n",
       "1  1059  MERCEDES-BENZ    ML 350 Inspiration   \n",
       "2   524           AUDI  S6 Avant quattro 4.2   \n",
       "3   608           SAAB   9-3 2.0i-16 TS Aero   \n",
       "4   726        PORSCHE      911 Turbo Cabrio   \n",
       "\n",
       "                       TypeNameFull ModelText         ModelTypeText  \\\n",
       "0         MERCEDES-BENZ SLR McLaren       SLR           SLR McLaren   \n",
       "1  MERCEDES-BENZ ML 350 Inspiration    ML 350    ML 350 Inspiration   \n",
       "2         AUDI S6 Avant quattro 4.2        S6  S6 Avant quattro 4.2   \n",
       "3          SAAB 9-3 2.0i-16 TS Aero       9-3   9-3 2.0i-16 TS Aero   \n",
       "4          PORSCHE 911 Turbo Cabrio       911      911 Turbo Cabrio   \n",
       "\n",
       "  Attribute Names Attribute Values                             entity_id  \n",
       "0           Seats                2  0001fda6-192b-46a8-bc08-0e833f904eed  \n",
       "1              Hp              235  00107c2d-0071-4475-88f0-810133638b7e  \n",
       "2    FuelTypeText           Benzin  00126794-a8ef-48fe-93d6-43cfc69fbfb6  \n",
       "3             Ccm             1985  00182529-1bf7-4f93-89fa-2e8e634b2c9d  \n",
       "4   BodyColorText     schwarz mét.  002d30c2-43f6-4905-868f-160dbc445c56  "
      ]
     },
     "execution_count": 4,
     "metadata": {},
     "output_type": "execute_result"
    }
   ],
   "source": [
    "raw.head(5)"
   ]
  },
  {
   "cell_type": "code",
   "execution_count": 5,
   "id": "40c8da12",
   "metadata": {},
   "outputs": [
    {
     "data": {
      "text/plain": [
       "ID                    0\n",
       "MakeText              0\n",
       "TypeName              0\n",
       "TypeNameFull          0\n",
       "ModelText           949\n",
       "ModelTypeText         0\n",
       "Attribute Names       0\n",
       "Attribute Values      0\n",
       "entity_id             0\n",
       "dtype: int64"
      ]
     },
     "execution_count": 5,
     "metadata": {},
     "output_type": "execute_result"
    }
   ],
   "source": [
    "raw.isna().sum()"
   ]
  },
  {
   "cell_type": "code",
   "execution_count": 6,
   "id": "773c0b30",
   "metadata": {},
   "outputs": [
    {
     "data": {
      "text/plain": [
       "array(['Seats', 'Hp', 'FuelTypeText', 'Ccm', 'BodyColorText',\n",
       "       'ConsumptionTotalText', 'Doors', 'Co2EmissionText',\n",
       "       'TransmissionTypeText', 'FirstRegYear', 'Properties',\n",
       "       'ConditionTypeText', 'Km', 'DriveTypeText', 'InteriorColorText',\n",
       "       'ConsumptionRatingText', 'FirstRegMonth', 'City', 'BodyTypeText'],\n",
       "      dtype=object)"
      ]
     },
     "execution_count": 6,
     "metadata": {},
     "output_type": "execute_result"
    }
   ],
   "source": [
    "raw['Attribute Names'].unique()"
   ]
  },
  {
   "cell_type": "markdown",
   "id": "6ed2f32b",
   "metadata": {},
   "source": [
    "check if entity_id is unique or shared among different attributes"
   ]
  },
  {
   "cell_type": "code",
   "execution_count": 7,
   "id": "eacb647d",
   "metadata": {},
   "outputs": [
    {
     "data": {
      "text/html": [
       "<div>\n",
       "<style scoped>\n",
       "    .dataframe tbody tr th:only-of-type {\n",
       "        vertical-align: middle;\n",
       "    }\n",
       "\n",
       "    .dataframe tbody tr th {\n",
       "        vertical-align: top;\n",
       "    }\n",
       "\n",
       "    .dataframe thead th {\n",
       "        text-align: right;\n",
       "    }\n",
       "</style>\n",
       "<table border=\"1\" class=\"dataframe\">\n",
       "  <thead>\n",
       "    <tr style=\"text-align: right;\">\n",
       "      <th></th>\n",
       "      <th>ID</th>\n",
       "      <th>MakeText</th>\n",
       "      <th>TypeName</th>\n",
       "      <th>TypeNameFull</th>\n",
       "      <th>ModelText</th>\n",
       "      <th>ModelTypeText</th>\n",
       "      <th>Attribute Names</th>\n",
       "      <th>Attribute Values</th>\n",
       "      <th>entity_id</th>\n",
       "    </tr>\n",
       "  </thead>\n",
       "  <tbody>\n",
       "    <tr>\n",
       "      <th>0</th>\n",
       "      <td>976</td>\n",
       "      <td>MERCEDES-BENZ</td>\n",
       "      <td>McLaren</td>\n",
       "      <td>MERCEDES-BENZ SLR McLaren</td>\n",
       "      <td>SLR</td>\n",
       "      <td>SLR McLaren</td>\n",
       "      <td>Seats</td>\n",
       "      <td>2</td>\n",
       "      <td>0001fda6-192b-46a8-bc08-0e833f904eed</td>\n",
       "    </tr>\n",
       "  </tbody>\n",
       "</table>\n",
       "</div>"
      ],
      "text/plain": [
       "    ID       MakeText TypeName               TypeNameFull ModelText  \\\n",
       "0  976  MERCEDES-BENZ  McLaren  MERCEDES-BENZ SLR McLaren       SLR   \n",
       "\n",
       "  ModelTypeText Attribute Names Attribute Values  \\\n",
       "0   SLR McLaren           Seats                2   \n",
       "\n",
       "                              entity_id  \n",
       "0  0001fda6-192b-46a8-bc08-0e833f904eed  "
      ]
     },
     "execution_count": 7,
     "metadata": {},
     "output_type": "execute_result"
    }
   ],
   "source": [
    "raw[raw['entity_id']=='0001fda6-192b-46a8-bc08-0e833f904eed']"
   ]
  },
  {
   "cell_type": "markdown",
   "id": "5a54cc8d",
   "metadata": {},
   "source": [
    "check if ModelTypeText or ID determine a sufficient group of attributes"
   ]
  },
  {
   "cell_type": "code",
   "execution_count": 8,
   "id": "c01c59ff",
   "metadata": {
    "scrolled": false
   },
   "outputs": [
    {
     "data": {
      "text/plain": [
       "(19, 9)"
      ]
     },
     "execution_count": 8,
     "metadata": {},
     "output_type": "execute_result"
    }
   ],
   "source": [
    "raw[raw.ModelTypeText=='SLR McLaren'].shape"
   ]
  },
  {
   "cell_type": "code",
   "execution_count": 9,
   "id": "6818c17c",
   "metadata": {
    "scrolled": true
   },
   "outputs": [
    {
     "data": {
      "text/plain": [
       "(19, 9)"
      ]
     },
     "execution_count": 9,
     "metadata": {},
     "output_type": "execute_result"
    }
   ],
   "source": [
    "raw[raw.ID==976].shape"
   ]
  },
  {
   "cell_type": "code",
   "execution_count": 10,
   "id": "5642a761",
   "metadata": {
    "scrolled": true
   },
   "outputs": [
    {
     "data": {
      "text/html": [
       "<div>\n",
       "<style scoped>\n",
       "    .dataframe tbody tr th:only-of-type {\n",
       "        vertical-align: middle;\n",
       "    }\n",
       "\n",
       "    .dataframe tbody tr th {\n",
       "        vertical-align: top;\n",
       "    }\n",
       "\n",
       "    .dataframe thead th {\n",
       "        text-align: right;\n",
       "    }\n",
       "</style>\n",
       "<table border=\"1\" class=\"dataframe\">\n",
       "  <thead>\n",
       "    <tr style=\"text-align: right;\">\n",
       "      <th></th>\n",
       "      <th>ID</th>\n",
       "      <th>MakeText</th>\n",
       "      <th>TypeName</th>\n",
       "      <th>TypeNameFull</th>\n",
       "      <th>ModelText</th>\n",
       "      <th>ModelTypeText</th>\n",
       "      <th>Attribute Names</th>\n",
       "      <th>Attribute Values</th>\n",
       "      <th>entity_id</th>\n",
       "    </tr>\n",
       "  </thead>\n",
       "  <tbody>\n",
       "    <tr>\n",
       "      <th>0</th>\n",
       "      <td>976</td>\n",
       "      <td>MERCEDES-BENZ</td>\n",
       "      <td>McLaren</td>\n",
       "      <td>MERCEDES-BENZ SLR McLaren</td>\n",
       "      <td>SLR</td>\n",
       "      <td>SLR McLaren</td>\n",
       "      <td>Seats</td>\n",
       "      <td>2</td>\n",
       "      <td>0001fda6-192b-46a8-bc08-0e833f904eed</td>\n",
       "    </tr>\n",
       "    <tr>\n",
       "      <th>93</th>\n",
       "      <td>976</td>\n",
       "      <td>MERCEDES-BENZ</td>\n",
       "      <td>McLaren</td>\n",
       "      <td>MERCEDES-BENZ SLR McLaren</td>\n",
       "      <td>SLR</td>\n",
       "      <td>SLR McLaren</td>\n",
       "      <td>Properties</td>\n",
       "      <td>\"Ab MFK\"</td>\n",
       "      <td>10f256ec-800b-44d1-8645-a80cc3ba227f</td>\n",
       "    </tr>\n",
       "    <tr>\n",
       "      <th>677</th>\n",
       "      <td>976</td>\n",
       "      <td>MERCEDES-BENZ</td>\n",
       "      <td>McLaren</td>\n",
       "      <td>MERCEDES-BENZ SLR McLaren</td>\n",
       "      <td>SLR</td>\n",
       "      <td>SLR McLaren</td>\n",
       "      <td>FuelTypeText</td>\n",
       "      <td>Benzin</td>\n",
       "      <td>843da678-76ec-4a0b-98c1-670653316199</td>\n",
       "    </tr>\n",
       "    <tr>\n",
       "      <th>1203</th>\n",
       "      <td>976</td>\n",
       "      <td>MERCEDES-BENZ</td>\n",
       "      <td>McLaren</td>\n",
       "      <td>MERCEDES-BENZ SLR McLaren</td>\n",
       "      <td>SLR</td>\n",
       "      <td>SLR McLaren</td>\n",
       "      <td>Hp</td>\n",
       "      <td>626</td>\n",
       "      <td>e8130e4a-6d0e-4e7c-8570-3cb91102b7e2</td>\n",
       "    </tr>\n",
       "    <tr>\n",
       "      <th>1763</th>\n",
       "      <td>976</td>\n",
       "      <td>MERCEDES-BENZ</td>\n",
       "      <td>McLaren</td>\n",
       "      <td>MERCEDES-BENZ SLR McLaren</td>\n",
       "      <td>SLR</td>\n",
       "      <td>SLR McLaren</td>\n",
       "      <td>City</td>\n",
       "      <td>Zuzwil</td>\n",
       "      <td>4d828910-b1a1-464b-a703-411b5b302494</td>\n",
       "    </tr>\n",
       "    <tr>\n",
       "      <th>4303</th>\n",
       "      <td>976</td>\n",
       "      <td>MERCEDES-BENZ</td>\n",
       "      <td>McLaren</td>\n",
       "      <td>MERCEDES-BENZ SLR McLaren</td>\n",
       "      <td>SLR</td>\n",
       "      <td>SLR McLaren</td>\n",
       "      <td>FirstRegYear</td>\n",
       "      <td>2007</td>\n",
       "      <td>2c3bfb1a-d9fe-474d-9c35-7ac80f918522</td>\n",
       "    </tr>\n",
       "    <tr>\n",
       "      <th>4585</th>\n",
       "      <td>976</td>\n",
       "      <td>MERCEDES-BENZ</td>\n",
       "      <td>McLaren</td>\n",
       "      <td>MERCEDES-BENZ SLR McLaren</td>\n",
       "      <td>SLR</td>\n",
       "      <td>SLR McLaren</td>\n",
       "      <td>Doors</td>\n",
       "      <td>2</td>\n",
       "      <td>5c8f7e88-fcba-48d1-9aee-ef0e01fd6f9f</td>\n",
       "    </tr>\n",
       "    <tr>\n",
       "      <th>6229</th>\n",
       "      <td>976</td>\n",
       "      <td>MERCEDES-BENZ</td>\n",
       "      <td>McLaren</td>\n",
       "      <td>MERCEDES-BENZ SLR McLaren</td>\n",
       "      <td>SLR</td>\n",
       "      <td>SLR McLaren</td>\n",
       "      <td>ConsumptionTotalText</td>\n",
       "      <td>null</td>\n",
       "      <td>89df4495-0d66-4adc-b352-544d90afb6ac</td>\n",
       "    </tr>\n",
       "    <tr>\n",
       "      <th>7522</th>\n",
       "      <td>976</td>\n",
       "      <td>MERCEDES-BENZ</td>\n",
       "      <td>McLaren</td>\n",
       "      <td>MERCEDES-BENZ SLR McLaren</td>\n",
       "      <td>SLR</td>\n",
       "      <td>SLR McLaren</td>\n",
       "      <td>ConditionTypeText</td>\n",
       "      <td>Occasion</td>\n",
       "      <td>7dce606c-a20f-438f-92d9-235519d0f383</td>\n",
       "    </tr>\n",
       "    <tr>\n",
       "      <th>11326</th>\n",
       "      <td>976</td>\n",
       "      <td>MERCEDES-BENZ</td>\n",
       "      <td>McLaren</td>\n",
       "      <td>MERCEDES-BENZ SLR McLaren</td>\n",
       "      <td>SLR</td>\n",
       "      <td>SLR McLaren</td>\n",
       "      <td>FirstRegMonth</td>\n",
       "      <td>10</td>\n",
       "      <td>50d801aa-ab99-49ff-8c75-c69864dc22ae</td>\n",
       "    </tr>\n",
       "    <tr>\n",
       "      <th>11480</th>\n",
       "      <td>976</td>\n",
       "      <td>MERCEDES-BENZ</td>\n",
       "      <td>McLaren</td>\n",
       "      <td>MERCEDES-BENZ SLR McLaren</td>\n",
       "      <td>SLR</td>\n",
       "      <td>SLR McLaren</td>\n",
       "      <td>InteriorColorText</td>\n",
       "      <td>schwarz</td>\n",
       "      <td>6f340b39-1d30-42e7-a947-b996988c1caa</td>\n",
       "    </tr>\n",
       "    <tr>\n",
       "      <th>11648</th>\n",
       "      <td>976</td>\n",
       "      <td>MERCEDES-BENZ</td>\n",
       "      <td>McLaren</td>\n",
       "      <td>MERCEDES-BENZ SLR McLaren</td>\n",
       "      <td>SLR</td>\n",
       "      <td>SLR McLaren</td>\n",
       "      <td>BodyTypeText</td>\n",
       "      <td>Cabriolet</td>\n",
       "      <td>8a7d8f05-7cea-489b-99b8-5f30fb90590a</td>\n",
       "    </tr>\n",
       "    <tr>\n",
       "      <th>12048</th>\n",
       "      <td>976</td>\n",
       "      <td>MERCEDES-BENZ</td>\n",
       "      <td>McLaren</td>\n",
       "      <td>MERCEDES-BENZ SLR McLaren</td>\n",
       "      <td>SLR</td>\n",
       "      <td>SLR McLaren</td>\n",
       "      <td>Ccm</td>\n",
       "      <td>5439</td>\n",
       "      <td>d81ed7e4-7b6f-47ce-ad38-1d802d92a2fa</td>\n",
       "    </tr>\n",
       "    <tr>\n",
       "      <th>12374</th>\n",
       "      <td>976</td>\n",
       "      <td>MERCEDES-BENZ</td>\n",
       "      <td>McLaren</td>\n",
       "      <td>MERCEDES-BENZ SLR McLaren</td>\n",
       "      <td>SLR</td>\n",
       "      <td>SLR McLaren</td>\n",
       "      <td>DriveTypeText</td>\n",
       "      <td>Hinterradantrieb</td>\n",
       "      <td>13c2b8e8-7acc-4b3b-a223-3c84be3e1dd4</td>\n",
       "    </tr>\n",
       "    <tr>\n",
       "      <th>13761</th>\n",
       "      <td>976</td>\n",
       "      <td>MERCEDES-BENZ</td>\n",
       "      <td>McLaren</td>\n",
       "      <td>MERCEDES-BENZ SLR McLaren</td>\n",
       "      <td>SLR</td>\n",
       "      <td>SLR McLaren</td>\n",
       "      <td>ConsumptionRatingText</td>\n",
       "      <td>null</td>\n",
       "      <td>124f2aad-97ec-409f-bdfc-5fd3cc1d3074</td>\n",
       "    </tr>\n",
       "    <tr>\n",
       "      <th>14401</th>\n",
       "      <td>976</td>\n",
       "      <td>MERCEDES-BENZ</td>\n",
       "      <td>McLaren</td>\n",
       "      <td>MERCEDES-BENZ SLR McLaren</td>\n",
       "      <td>SLR</td>\n",
       "      <td>SLR McLaren</td>\n",
       "      <td>BodyColorText</td>\n",
       "      <td>silber mét.</td>\n",
       "      <td>8aff23e9-de4e-4b6c-b488-074519799aab</td>\n",
       "    </tr>\n",
       "    <tr>\n",
       "      <th>19224</th>\n",
       "      <td>976</td>\n",
       "      <td>MERCEDES-BENZ</td>\n",
       "      <td>McLaren</td>\n",
       "      <td>MERCEDES-BENZ SLR McLaren</td>\n",
       "      <td>SLR</td>\n",
       "      <td>SLR McLaren</td>\n",
       "      <td>TransmissionTypeText</td>\n",
       "      <td>Automatik-Getriebe</td>\n",
       "      <td>08e7bc2b-13ff-4a91-972b-fe96807fbfc0</td>\n",
       "    </tr>\n",
       "    <tr>\n",
       "      <th>20298</th>\n",
       "      <td>976</td>\n",
       "      <td>MERCEDES-BENZ</td>\n",
       "      <td>McLaren</td>\n",
       "      <td>MERCEDES-BENZ SLR McLaren</td>\n",
       "      <td>SLR</td>\n",
       "      <td>SLR McLaren</td>\n",
       "      <td>Co2EmissionText</td>\n",
       "      <td>null</td>\n",
       "      <td>ceb26b5e-8818-43cf-a64b-0ad22017fcdb</td>\n",
       "    </tr>\n",
       "    <tr>\n",
       "      <th>21680</th>\n",
       "      <td>976</td>\n",
       "      <td>MERCEDES-BENZ</td>\n",
       "      <td>McLaren</td>\n",
       "      <td>MERCEDES-BENZ SLR McLaren</td>\n",
       "      <td>SLR</td>\n",
       "      <td>SLR McLaren</td>\n",
       "      <td>Km</td>\n",
       "      <td>29800</td>\n",
       "      <td>cfa5dda3-789e-47a4-a7f7-f88b3350b31c</td>\n",
       "    </tr>\n",
       "  </tbody>\n",
       "</table>\n",
       "</div>"
      ],
      "text/plain": [
       "        ID       MakeText TypeName               TypeNameFull ModelText  \\\n",
       "0      976  MERCEDES-BENZ  McLaren  MERCEDES-BENZ SLR McLaren       SLR   \n",
       "93     976  MERCEDES-BENZ  McLaren  MERCEDES-BENZ SLR McLaren       SLR   \n",
       "677    976  MERCEDES-BENZ  McLaren  MERCEDES-BENZ SLR McLaren       SLR   \n",
       "1203   976  MERCEDES-BENZ  McLaren  MERCEDES-BENZ SLR McLaren       SLR   \n",
       "1763   976  MERCEDES-BENZ  McLaren  MERCEDES-BENZ SLR McLaren       SLR   \n",
       "4303   976  MERCEDES-BENZ  McLaren  MERCEDES-BENZ SLR McLaren       SLR   \n",
       "4585   976  MERCEDES-BENZ  McLaren  MERCEDES-BENZ SLR McLaren       SLR   \n",
       "6229   976  MERCEDES-BENZ  McLaren  MERCEDES-BENZ SLR McLaren       SLR   \n",
       "7522   976  MERCEDES-BENZ  McLaren  MERCEDES-BENZ SLR McLaren       SLR   \n",
       "11326  976  MERCEDES-BENZ  McLaren  MERCEDES-BENZ SLR McLaren       SLR   \n",
       "11480  976  MERCEDES-BENZ  McLaren  MERCEDES-BENZ SLR McLaren       SLR   \n",
       "11648  976  MERCEDES-BENZ  McLaren  MERCEDES-BENZ SLR McLaren       SLR   \n",
       "12048  976  MERCEDES-BENZ  McLaren  MERCEDES-BENZ SLR McLaren       SLR   \n",
       "12374  976  MERCEDES-BENZ  McLaren  MERCEDES-BENZ SLR McLaren       SLR   \n",
       "13761  976  MERCEDES-BENZ  McLaren  MERCEDES-BENZ SLR McLaren       SLR   \n",
       "14401  976  MERCEDES-BENZ  McLaren  MERCEDES-BENZ SLR McLaren       SLR   \n",
       "19224  976  MERCEDES-BENZ  McLaren  MERCEDES-BENZ SLR McLaren       SLR   \n",
       "20298  976  MERCEDES-BENZ  McLaren  MERCEDES-BENZ SLR McLaren       SLR   \n",
       "21680  976  MERCEDES-BENZ  McLaren  MERCEDES-BENZ SLR McLaren       SLR   \n",
       "\n",
       "      ModelTypeText        Attribute Names    Attribute Values  \\\n",
       "0       SLR McLaren                  Seats                   2   \n",
       "93      SLR McLaren             Properties            \"Ab MFK\"   \n",
       "677     SLR McLaren           FuelTypeText              Benzin   \n",
       "1203    SLR McLaren                     Hp                 626   \n",
       "1763    SLR McLaren                   City              Zuzwil   \n",
       "4303    SLR McLaren           FirstRegYear                2007   \n",
       "4585    SLR McLaren                  Doors                   2   \n",
       "6229    SLR McLaren   ConsumptionTotalText                null   \n",
       "7522    SLR McLaren      ConditionTypeText            Occasion   \n",
       "11326   SLR McLaren          FirstRegMonth                  10   \n",
       "11480   SLR McLaren      InteriorColorText             schwarz   \n",
       "11648   SLR McLaren           BodyTypeText           Cabriolet   \n",
       "12048   SLR McLaren                    Ccm                5439   \n",
       "12374   SLR McLaren          DriveTypeText    Hinterradantrieb   \n",
       "13761   SLR McLaren  ConsumptionRatingText                null   \n",
       "14401   SLR McLaren          BodyColorText         silber mét.   \n",
       "19224   SLR McLaren   TransmissionTypeText  Automatik-Getriebe   \n",
       "20298   SLR McLaren        Co2EmissionText                null   \n",
       "21680   SLR McLaren                     Km               29800   \n",
       "\n",
       "                                  entity_id  \n",
       "0      0001fda6-192b-46a8-bc08-0e833f904eed  \n",
       "93     10f256ec-800b-44d1-8645-a80cc3ba227f  \n",
       "677    843da678-76ec-4a0b-98c1-670653316199  \n",
       "1203   e8130e4a-6d0e-4e7c-8570-3cb91102b7e2  \n",
       "1763   4d828910-b1a1-464b-a703-411b5b302494  \n",
       "4303   2c3bfb1a-d9fe-474d-9c35-7ac80f918522  \n",
       "4585   5c8f7e88-fcba-48d1-9aee-ef0e01fd6f9f  \n",
       "6229   89df4495-0d66-4adc-b352-544d90afb6ac  \n",
       "7522   7dce606c-a20f-438f-92d9-235519d0f383  \n",
       "11326  50d801aa-ab99-49ff-8c75-c69864dc22ae  \n",
       "11480  6f340b39-1d30-42e7-a947-b996988c1caa  \n",
       "11648  8a7d8f05-7cea-489b-99b8-5f30fb90590a  \n",
       "12048  d81ed7e4-7b6f-47ce-ad38-1d802d92a2fa  \n",
       "12374  13c2b8e8-7acc-4b3b-a223-3c84be3e1dd4  \n",
       "13761  124f2aad-97ec-409f-bdfc-5fd3cc1d3074  \n",
       "14401  8aff23e9-de4e-4b6c-b488-074519799aab  \n",
       "19224  08e7bc2b-13ff-4a91-972b-fe96807fbfc0  \n",
       "20298  ceb26b5e-8818-43cf-a64b-0ad22017fcdb  \n",
       "21680  cfa5dda3-789e-47a4-a7f7-f88b3350b31c  "
      ]
     },
     "execution_count": 10,
     "metadata": {},
     "output_type": "execute_result"
    }
   ],
   "source": [
    "raw[raw.ID==976]"
   ]
  },
  {
   "cell_type": "markdown",
   "id": "ebf3bfd3",
   "metadata": {},
   "source": [
    "## 3. data preparation"
   ]
  },
  {
   "cell_type": "code",
   "execution_count": 11,
   "id": "1d8da91f",
   "metadata": {},
   "outputs": [],
   "source": [
    "test = raw.pivot(index='ID', columns='Attribute Names', values='Attribute Values').reset_index()"
   ]
  },
  {
   "cell_type": "code",
   "execution_count": 12,
   "id": "0fad390a",
   "metadata": {},
   "outputs": [
    {
     "data": {
      "text/plain": [
       "(1153, 20)"
      ]
     },
     "execution_count": 12,
     "metadata": {},
     "output_type": "execute_result"
    }
   ],
   "source": [
    "test.shape"
   ]
  },
  {
   "cell_type": "code",
   "execution_count": 13,
   "id": "5ba899ec",
   "metadata": {},
   "outputs": [
    {
     "data": {
      "text/html": [
       "<div>\n",
       "<style scoped>\n",
       "    .dataframe tbody tr th:only-of-type {\n",
       "        vertical-align: middle;\n",
       "    }\n",
       "\n",
       "    .dataframe tbody tr th {\n",
       "        vertical-align: top;\n",
       "    }\n",
       "\n",
       "    .dataframe thead th {\n",
       "        text-align: right;\n",
       "    }\n",
       "</style>\n",
       "<table border=\"1\" class=\"dataframe\">\n",
       "  <thead>\n",
       "    <tr style=\"text-align: right;\">\n",
       "      <th>Attribute Names</th>\n",
       "      <th>ID</th>\n",
       "      <th>BodyColorText</th>\n",
       "      <th>BodyTypeText</th>\n",
       "      <th>Ccm</th>\n",
       "      <th>City</th>\n",
       "      <th>Co2EmissionText</th>\n",
       "      <th>ConditionTypeText</th>\n",
       "      <th>ConsumptionRatingText</th>\n",
       "      <th>ConsumptionTotalText</th>\n",
       "      <th>Doors</th>\n",
       "      <th>DriveTypeText</th>\n",
       "      <th>FirstRegMonth</th>\n",
       "      <th>FirstRegYear</th>\n",
       "      <th>FuelTypeText</th>\n",
       "      <th>Hp</th>\n",
       "      <th>InteriorColorText</th>\n",
       "      <th>Km</th>\n",
       "      <th>Properties</th>\n",
       "      <th>Seats</th>\n",
       "      <th>TransmissionTypeText</th>\n",
       "    </tr>\n",
       "  </thead>\n",
       "  <tbody>\n",
       "    <tr>\n",
       "      <th>975</th>\n",
       "      <td>976</td>\n",
       "      <td>silber mét.</td>\n",
       "      <td>Cabriolet</td>\n",
       "      <td>5439</td>\n",
       "      <td>Zuzwil</td>\n",
       "      <td>null</td>\n",
       "      <td>Occasion</td>\n",
       "      <td>null</td>\n",
       "      <td>null</td>\n",
       "      <td>2</td>\n",
       "      <td>Hinterradantrieb</td>\n",
       "      <td>10</td>\n",
       "      <td>2007</td>\n",
       "      <td>Benzin</td>\n",
       "      <td>626</td>\n",
       "      <td>schwarz</td>\n",
       "      <td>29800</td>\n",
       "      <td>\"Ab MFK\"</td>\n",
       "      <td>2</td>\n",
       "      <td>Automatik-Getriebe</td>\n",
       "    </tr>\n",
       "  </tbody>\n",
       "</table>\n",
       "</div>"
      ],
      "text/plain": [
       "Attribute Names   ID BodyColorText BodyTypeText   Ccm    City Co2EmissionText  \\\n",
       "975              976   silber mét.    Cabriolet  5439  Zuzwil            null   \n",
       "\n",
       "Attribute Names ConditionTypeText ConsumptionRatingText ConsumptionTotalText  \\\n",
       "975                      Occasion                  null                 null   \n",
       "\n",
       "Attribute Names Doors     DriveTypeText FirstRegMonth FirstRegYear  \\\n",
       "975                 2  Hinterradantrieb            10         2007   \n",
       "\n",
       "Attribute Names FuelTypeText   Hp InteriorColorText     Km Properties Seats  \\\n",
       "975                   Benzin  626           schwarz  29800   \"Ab MFK\"     2   \n",
       "\n",
       "Attribute Names TransmissionTypeText  \n",
       "975               Automatik-Getriebe  "
      ]
     },
     "execution_count": 13,
     "metadata": {},
     "output_type": "execute_result"
    }
   ],
   "source": [
    "test[test.ID == 976]"
   ]
  },
  {
   "cell_type": "markdown",
   "id": "c5e42956",
   "metadata": {},
   "source": [
    "_joining new dataframe with reworked main raw data_"
   ]
  },
  {
   "cell_type": "code",
   "execution_count": 14,
   "id": "906b89b6",
   "metadata": {},
   "outputs": [],
   "source": [
    "raw_main = raw.copy()"
   ]
  },
  {
   "cell_type": "code",
   "execution_count": 15,
   "id": "29fa17c9",
   "metadata": {},
   "outputs": [],
   "source": [
    "rawu = raw_main[['ID','MakeText','TypeName','TypeNameFull','ModelText','ModelTypeText']].drop_duplicates()"
   ]
  },
  {
   "cell_type": "code",
   "execution_count": 16,
   "id": "61039905",
   "metadata": {},
   "outputs": [
    {
     "data": {
      "text/plain": [
       "(1153, 6)"
      ]
     },
     "execution_count": 16,
     "metadata": {},
     "output_type": "execute_result"
    }
   ],
   "source": [
    "rawu.shape"
   ]
  },
  {
   "cell_type": "markdown",
   "id": "155180c0",
   "metadata": {},
   "source": [
    "_since the number of rows is equal we can safely join_"
   ]
  },
  {
   "cell_type": "code",
   "execution_count": 17,
   "id": "e8209229",
   "metadata": {},
   "outputs": [],
   "source": [
    "final = pd.merge(rawu,test,how='inner',on='ID')"
   ]
  },
  {
   "cell_type": "code",
   "execution_count": 52,
   "id": "bb50885a",
   "metadata": {},
   "outputs": [
    {
     "data": {
      "text/plain": [
       "(1153, 25)"
      ]
     },
     "execution_count": 52,
     "metadata": {},
     "output_type": "execute_result"
    }
   ],
   "source": [
    "final.shape"
   ]
  },
  {
   "cell_type": "code",
   "execution_count": 18,
   "id": "01abff2d",
   "metadata": {
    "scrolled": false
   },
   "outputs": [
    {
     "data": {
      "text/plain": [
       "ID                        0\n",
       "MakeText                  0\n",
       "TypeName                  0\n",
       "TypeNameFull              0\n",
       "ModelText                50\n",
       "ModelTypeText             0\n",
       "BodyColorText             0\n",
       "BodyTypeText              1\n",
       "Ccm                       0\n",
       "City                      0\n",
       "Co2EmissionText           0\n",
       "ConditionTypeText         0\n",
       "ConsumptionRatingText     0\n",
       "ConsumptionTotalText      0\n",
       "Doors                     0\n",
       "DriveTypeText             0\n",
       "FirstRegMonth             0\n",
       "FirstRegYear              0\n",
       "FuelTypeText              0\n",
       "Hp                        0\n",
       "InteriorColorText         0\n",
       "Km                        0\n",
       "Properties                0\n",
       "Seats                     0\n",
       "TransmissionTypeText      0\n",
       "dtype: int64"
      ]
     },
     "execution_count": 18,
     "metadata": {},
     "output_type": "execute_result"
    }
   ],
   "source": [
    "final.isna().sum()"
   ]
  },
  {
   "cell_type": "markdown",
   "id": "24eb1baa",
   "metadata": {},
   "source": [
    "_export preprocessing data to excel_"
   ]
  },
  {
   "cell_type": "code",
   "execution_count": 19,
   "id": "4b821a40",
   "metadata": {},
   "outputs": [],
   "source": [
    "ex = final.sort_values('ID').reset_index(drop=True)"
   ]
  },
  {
   "cell_type": "code",
   "execution_count": 20,
   "id": "e152d763",
   "metadata": {},
   "outputs": [],
   "source": [
    "ex = ex[\n",
    "    [\n",
    "        'MakeText',\n",
    "        'ModelText',\n",
    "        'ModelTypeText',\n",
    "        'BodyColorText',\n",
    "        'BodyTypeText',\n",
    "        'City',\n",
    "        'ConditionTypeText',\n",
    "        'ConsumptionTotalText',\n",
    "#         'Doors',\n",
    "#         'DriveTypeText',\n",
    "        'FirstRegMonth',\n",
    "        'FirstRegYear',\n",
    "        'Km'\n",
    "        # 'Properties'\n",
    "        # 'Seats'\n",
    "    ]\n",
    "]"
   ]
  },
  {
   "cell_type": "code",
   "execution_count": 21,
   "id": "b11ebf28",
   "metadata": {},
   "outputs": [
    {
     "data": {
      "text/plain": [
       "(1153, 11)"
      ]
     },
     "execution_count": 21,
     "metadata": {},
     "output_type": "execute_result"
    }
   ],
   "source": [
    "ex.shape"
   ]
  },
  {
   "cell_type": "code",
   "execution_count": 22,
   "id": "f97b6fb6",
   "metadata": {},
   "outputs": [],
   "source": [
    "ex.to_excel('rawdata/pre_processed_data2.xlsx', index=False)"
   ]
  },
  {
   "cell_type": "markdown",
   "id": "98db77e0",
   "metadata": {},
   "source": [
    "# B) normalisation"
   ]
  },
  {
   "cell_type": "markdown",
   "id": "f3c93db9",
   "metadata": {},
   "source": [
    "_making a copy of the pre-processed dataframe_"
   ]
  },
  {
   "cell_type": "code",
   "execution_count": 23,
   "id": "19ec3ab5",
   "metadata": {},
   "outputs": [],
   "source": [
    "norm = ex.copy()"
   ]
  },
  {
   "cell_type": "markdown",
   "id": "9b6508a9",
   "metadata": {},
   "source": [
    "_filling null values with Other_"
   ]
  },
  {
   "cell_type": "code",
   "execution_count": 24,
   "id": "8ad3a7bd",
   "metadata": {},
   "outputs": [],
   "source": [
    "norm = norm.fillna('Other')"
   ]
  },
  {
   "cell_type": "markdown",
   "id": "c139ac16",
   "metadata": {},
   "source": [
    "_format Body Color and Body Type_"
   ]
  },
  {
   "cell_type": "code",
   "execution_count": 26,
   "id": "dd1fd691",
   "metadata": {},
   "outputs": [],
   "source": [
    "norm.BodyColorText = norm.BodyColorText.apply(changeStr)\n",
    "norm.BodyTypeText = norm.BodyTypeText.apply(changeBody)"
   ]
  },
  {
   "cell_type": "markdown",
   "id": "5ab9a280",
   "metadata": {},
   "source": [
    "_obtain list of unique values for colors, body types, condition and cities_"
   ]
  },
  {
   "cell_type": "code",
   "execution_count": 27,
   "id": "6327893e",
   "metadata": {},
   "outputs": [],
   "source": [
    "colors = list(norm.BodyColorText.drop_duplicates())\n",
    "colors = [ x for x in colors if \"Mét.\" not in x ]\n",
    "\n",
    "# drive = list(norm.DriveTypeText.drop_duplicates())\n",
    "\n",
    "body = list(norm.BodyTypeText.drop_duplicates().dropna())\n",
    "\n",
    "condition = list(norm.ConditionTypeText.drop_duplicates())\n",
    "\n",
    "cities = list(norm.City.drop_duplicates())"
   ]
  },
  {
   "cell_type": "markdown",
   "id": "db53c82c",
   "metadata": {},
   "source": [
    "_leveraging external APIs to obtain data for missing features in input data_"
   ]
  },
  {
   "cell_type": "code",
   "execution_count": 30,
   "id": "d8874bd9",
   "metadata": {},
   "outputs": [],
   "source": [
    "bodies = pd.DataFrame.from_dict(getEnglish(body))\n",
    "conditions = pd.DataFrame.from_dict(getEnglish(condition))\n",
    "cols = pd.DataFrame.from_dict(getEnglish(colors))\n",
    "cts = pd.DataFrame.from_dict(getCountry(cities))"
   ]
  },
  {
   "cell_type": "markdown",
   "id": "ec09a362",
   "metadata": {},
   "source": [
    "_enriching normalized dataframe with new features_"
   ]
  },
  {
   "cell_type": "code",
   "execution_count": 33,
   "id": "d4562362",
   "metadata": {},
   "outputs": [],
   "source": [
    "norm = pd.merge(norm, conditions, how='left', left_on=['ConditionTypeText'], right_on=['Name'])\n",
    "norm.drop(columns={'Name','ConditionTypeText'}, inplace=True)\n",
    "norm.rename(columns={'Values':'condition'}, inplace=True)"
   ]
  },
  {
   "cell_type": "code",
   "execution_count": 34,
   "id": "ad842081",
   "metadata": {},
   "outputs": [],
   "source": [
    "norm = pd.merge(norm, bodies, how='left', left_on=['BodyTypeText'], right_on=['Name'])\n",
    "norm.drop(columns={'Name','BodyTypeText'}, inplace=True)\n",
    "norm.rename(columns={'Values':'carType'}, inplace=True)"
   ]
  },
  {
   "cell_type": "code",
   "execution_count": 36,
   "id": "41f471a3",
   "metadata": {},
   "outputs": [],
   "source": [
    "norm = pd.merge(norm, cols, how='left', left_on=['BodyColorText'], right_on=['Name'])\n",
    "norm.drop(columns={'Name','BodyColorText'}, inplace=True)\n",
    "norm.rename(columns={'Values':'color'}, inplace=True)"
   ]
  },
  {
   "cell_type": "code",
   "execution_count": 37,
   "id": "120b6d2c",
   "metadata": {},
   "outputs": [],
   "source": [
    "norm = pd.merge(norm, cts, how='left', left_on=['City'], right_on=['Name'])\n",
    "norm.drop(columns={'Name'}, inplace=True)\n",
    "norm.rename(columns={'Values':'country'}, inplace=True)"
   ]
  },
  {
   "cell_type": "code",
   "execution_count": 39,
   "id": "edb56518",
   "metadata": {},
   "outputs": [],
   "source": [
    "norm['fuel_consumption_unit'] = norm.ConsumptionTotalText.apply(consUnit)\n",
    "norm['mileage_unit'] = norm.ConsumptionTotalText.apply(mil)\n",
    "norm.drop(columns={'ConsumptionTotalText'},inplace=True)"
   ]
  },
  {
   "cell_type": "code",
   "execution_count": 40,
   "id": "c9097068",
   "metadata": {},
   "outputs": [],
   "source": [
    "norm['drive'] = norm.country.apply(drive)"
   ]
  },
  {
   "cell_type": "code",
   "execution_count": 53,
   "id": "e4f17bd7",
   "metadata": {},
   "outputs": [
    {
     "data": {
      "text/plain": [
       "(1153, 14)"
      ]
     },
     "execution_count": 53,
     "metadata": {},
     "output_type": "execute_result"
    }
   ],
   "source": [
    "norm.shape"
   ]
  },
  {
   "cell_type": "code",
   "execution_count": 41,
   "id": "0a4c1b7b",
   "metadata": {},
   "outputs": [
    {
     "data": {
      "text/html": [
       "<div>\n",
       "<style scoped>\n",
       "    .dataframe tbody tr th:only-of-type {\n",
       "        vertical-align: middle;\n",
       "    }\n",
       "\n",
       "    .dataframe tbody tr th {\n",
       "        vertical-align: top;\n",
       "    }\n",
       "\n",
       "    .dataframe thead th {\n",
       "        text-align: right;\n",
       "    }\n",
       "</style>\n",
       "<table border=\"1\" class=\"dataframe\">\n",
       "  <thead>\n",
       "    <tr style=\"text-align: right;\">\n",
       "      <th></th>\n",
       "      <th>MakeText</th>\n",
       "      <th>ModelText</th>\n",
       "      <th>ModelTypeText</th>\n",
       "      <th>City</th>\n",
       "      <th>FirstRegMonth</th>\n",
       "      <th>FirstRegYear</th>\n",
       "      <th>Km</th>\n",
       "      <th>condition</th>\n",
       "      <th>carType</th>\n",
       "      <th>color</th>\n",
       "      <th>country</th>\n",
       "      <th>fuel_consumption_unit</th>\n",
       "      <th>mileage_unit</th>\n",
       "      <th>drive</th>\n",
       "    </tr>\n",
       "  </thead>\n",
       "  <tbody>\n",
       "    <tr>\n",
       "      <th>0</th>\n",
       "      <td>MERCEDES-BENZ</td>\n",
       "      <td>E 320</td>\n",
       "      <td>E 320 Elégance 4-Matic</td>\n",
       "      <td>Zuzwil</td>\n",
       "      <td>1</td>\n",
       "      <td>1999</td>\n",
       "      <td>31900</td>\n",
       "      <td>Occasion</td>\n",
       "      <td>limousine</td>\n",
       "      <td>anthracite</td>\n",
       "      <td>CH</td>\n",
       "      <td>l_km_consumption</td>\n",
       "      <td>kilometer</td>\n",
       "      <td>LHD</td>\n",
       "    </tr>\n",
       "    <tr>\n",
       "      <th>1</th>\n",
       "      <td>AUDI</td>\n",
       "      <td>RS6</td>\n",
       "      <td>RS6 Avant 5.0 V10 quattro</td>\n",
       "      <td>Zuzwil</td>\n",
       "      <td>7</td>\n",
       "      <td>2008</td>\n",
       "      <td>25400</td>\n",
       "      <td>Occasion</td>\n",
       "      <td>Combi</td>\n",
       "      <td>anthracite</td>\n",
       "      <td>CH</td>\n",
       "      <td>l_km_consumption</td>\n",
       "      <td>kilometer</td>\n",
       "      <td>LHD</td>\n",
       "    </tr>\n",
       "    <tr>\n",
       "      <th>2</th>\n",
       "      <td>AUDI</td>\n",
       "      <td>RS6</td>\n",
       "      <td>RS6 Avant quattro</td>\n",
       "      <td>Zuzwil</td>\n",
       "      <td>10</td>\n",
       "      <td>2002</td>\n",
       "      <td>38500</td>\n",
       "      <td>Occasion</td>\n",
       "      <td>Combi</td>\n",
       "      <td>anthracite</td>\n",
       "      <td>CH</td>\n",
       "      <td>l_km_consumption</td>\n",
       "      <td>kilometer</td>\n",
       "      <td>LHD</td>\n",
       "    </tr>\n",
       "  </tbody>\n",
       "</table>\n",
       "</div>"
      ],
      "text/plain": [
       "        MakeText ModelText              ModelTypeText    City FirstRegMonth  \\\n",
       "0  MERCEDES-BENZ     E 320     E 320 Elégance 4-Matic  Zuzwil             1   \n",
       "1           AUDI       RS6  RS6 Avant 5.0 V10 quattro  Zuzwil             7   \n",
       "2           AUDI       RS6          RS6 Avant quattro  Zuzwil            10   \n",
       "\n",
       "  FirstRegYear     Km condition    carType       color country  \\\n",
       "0         1999  31900  Occasion  limousine  anthracite      CH   \n",
       "1         2008  25400  Occasion      Combi  anthracite      CH   \n",
       "2         2002  38500  Occasion      Combi  anthracite      CH   \n",
       "\n",
       "  fuel_consumption_unit mileage_unit drive  \n",
       "0      l_km_consumption    kilometer   LHD  \n",
       "1      l_km_consumption    kilometer   LHD  \n",
       "2      l_km_consumption    kilometer   LHD  "
      ]
     },
     "execution_count": 41,
     "metadata": {},
     "output_type": "execute_result"
    }
   ],
   "source": [
    "norm.head(3)"
   ]
  },
  {
   "cell_type": "markdown",
   "id": "b49bf16e",
   "metadata": {},
   "source": [
    "# C) integration"
   ]
  },
  {
   "cell_type": "markdown",
   "id": "478839ca",
   "metadata": {},
   "source": [
    "_making a copy of the first iteration of the normalized dataframe_"
   ]
  },
  {
   "cell_type": "code",
   "execution_count": 42,
   "id": "7733da98",
   "metadata": {},
   "outputs": [],
   "source": [
    "norm2 = norm.copy()"
   ]
  },
  {
   "cell_type": "markdown",
   "id": "a359a988",
   "metadata": {},
   "source": [
    "_renaming column to fit target data_"
   ]
  },
  {
   "cell_type": "code",
   "execution_count": 43,
   "id": "4ae12196",
   "metadata": {},
   "outputs": [],
   "source": [
    "norm2.rename(columns={\n",
    "    'MakeText':'make',\n",
    "    'ModelText':'model',\n",
    "    'ModelTypeText':'model_variant',\n",
    "    'City':'city',\n",
    "    'FirstRegMonth':'manufacture_month',\n",
    "    'FirstRegYear':'manufacture_year',\n",
    "    'Km':'mileage'\n",
    "},inplace=True)"
   ]
  },
  {
   "cell_type": "markdown",
   "id": "dd063c78",
   "metadata": {},
   "source": [
    "_adding final missing features_"
   ]
  },
  {
   "cell_type": "code",
   "execution_count": 44,
   "id": "5f2d96fb",
   "metadata": {},
   "outputs": [],
   "source": [
    "norm2['currency'] = \"CHF\"\n",
    "norm2['price_on_request'] = \"false\"\n",
    "norm2['type'] = \"car\"\n",
    "norm2['zip'] = \"null\""
   ]
  },
  {
   "cell_type": "code",
   "execution_count": 45,
   "id": "8b3cca76",
   "metadata": {},
   "outputs": [
    {
     "name": "stdout",
     "output_type": "stream",
     "text": [
      "(1153, 18)\n"
     ]
    },
    {
     "data": {
      "text/html": [
       "<div>\n",
       "<style scoped>\n",
       "    .dataframe tbody tr th:only-of-type {\n",
       "        vertical-align: middle;\n",
       "    }\n",
       "\n",
       "    .dataframe tbody tr th {\n",
       "        vertical-align: top;\n",
       "    }\n",
       "\n",
       "    .dataframe thead th {\n",
       "        text-align: right;\n",
       "    }\n",
       "</style>\n",
       "<table border=\"1\" class=\"dataframe\">\n",
       "  <thead>\n",
       "    <tr style=\"text-align: right;\">\n",
       "      <th></th>\n",
       "      <th>make</th>\n",
       "      <th>model</th>\n",
       "      <th>model_variant</th>\n",
       "      <th>city</th>\n",
       "      <th>manufacture_month</th>\n",
       "      <th>manufacture_year</th>\n",
       "      <th>mileage</th>\n",
       "      <th>condition</th>\n",
       "      <th>carType</th>\n",
       "      <th>color</th>\n",
       "      <th>country</th>\n",
       "      <th>fuel_consumption_unit</th>\n",
       "      <th>mileage_unit</th>\n",
       "      <th>drive</th>\n",
       "      <th>currency</th>\n",
       "      <th>price_on_request</th>\n",
       "      <th>type</th>\n",
       "      <th>zip</th>\n",
       "    </tr>\n",
       "  </thead>\n",
       "  <tbody>\n",
       "    <tr>\n",
       "      <th>0</th>\n",
       "      <td>MERCEDES-BENZ</td>\n",
       "      <td>E 320</td>\n",
       "      <td>E 320 Elégance 4-Matic</td>\n",
       "      <td>Zuzwil</td>\n",
       "      <td>1</td>\n",
       "      <td>1999</td>\n",
       "      <td>31900</td>\n",
       "      <td>Occasion</td>\n",
       "      <td>limousine</td>\n",
       "      <td>anthracite</td>\n",
       "      <td>CH</td>\n",
       "      <td>l_km_consumption</td>\n",
       "      <td>kilometer</td>\n",
       "      <td>LHD</td>\n",
       "      <td>CHF</td>\n",
       "      <td>false</td>\n",
       "      <td>car</td>\n",
       "      <td>null</td>\n",
       "    </tr>\n",
       "    <tr>\n",
       "      <th>1</th>\n",
       "      <td>AUDI</td>\n",
       "      <td>RS6</td>\n",
       "      <td>RS6 Avant 5.0 V10 quattro</td>\n",
       "      <td>Zuzwil</td>\n",
       "      <td>7</td>\n",
       "      <td>2008</td>\n",
       "      <td>25400</td>\n",
       "      <td>Occasion</td>\n",
       "      <td>Combi</td>\n",
       "      <td>anthracite</td>\n",
       "      <td>CH</td>\n",
       "      <td>l_km_consumption</td>\n",
       "      <td>kilometer</td>\n",
       "      <td>LHD</td>\n",
       "      <td>CHF</td>\n",
       "      <td>false</td>\n",
       "      <td>car</td>\n",
       "      <td>null</td>\n",
       "    </tr>\n",
       "    <tr>\n",
       "      <th>2</th>\n",
       "      <td>AUDI</td>\n",
       "      <td>RS6</td>\n",
       "      <td>RS6 Avant quattro</td>\n",
       "      <td>Zuzwil</td>\n",
       "      <td>10</td>\n",
       "      <td>2002</td>\n",
       "      <td>38500</td>\n",
       "      <td>Occasion</td>\n",
       "      <td>Combi</td>\n",
       "      <td>anthracite</td>\n",
       "      <td>CH</td>\n",
       "      <td>l_km_consumption</td>\n",
       "      <td>kilometer</td>\n",
       "      <td>LHD</td>\n",
       "      <td>CHF</td>\n",
       "      <td>false</td>\n",
       "      <td>car</td>\n",
       "      <td>null</td>\n",
       "    </tr>\n",
       "  </tbody>\n",
       "</table>\n",
       "</div>"
      ],
      "text/plain": [
       "            make  model              model_variant    city manufacture_month  \\\n",
       "0  MERCEDES-BENZ  E 320     E 320 Elégance 4-Matic  Zuzwil                 1   \n",
       "1           AUDI    RS6  RS6 Avant 5.0 V10 quattro  Zuzwil                 7   \n",
       "2           AUDI    RS6          RS6 Avant quattro  Zuzwil                10   \n",
       "\n",
       "  manufacture_year mileage condition    carType       color country  \\\n",
       "0             1999   31900  Occasion  limousine  anthracite      CH   \n",
       "1             2008   25400  Occasion      Combi  anthracite      CH   \n",
       "2             2002   38500  Occasion      Combi  anthracite      CH   \n",
       "\n",
       "  fuel_consumption_unit mileage_unit drive currency price_on_request type  \\\n",
       "0      l_km_consumption    kilometer   LHD      CHF            false  car   \n",
       "1      l_km_consumption    kilometer   LHD      CHF            false  car   \n",
       "2      l_km_consumption    kilometer   LHD      CHF            false  car   \n",
       "\n",
       "    zip  \n",
       "0  null  \n",
       "1  null  \n",
       "2  null  "
      ]
     },
     "execution_count": 45,
     "metadata": {},
     "output_type": "execute_result"
    }
   ],
   "source": [
    "print(norm2.shape)\n",
    "norm2.head(3)"
   ]
  },
  {
   "cell_type": "markdown",
   "id": "b0f7397c",
   "metadata": {},
   "source": [
    "_formatting make, color and mileage as required_"
   ]
  },
  {
   "cell_type": "code",
   "execution_count": 46,
   "id": "efe7ab3d",
   "metadata": {},
   "outputs": [],
   "source": [
    "norm2.make = norm2.make.apply(lambda str : str.title())\n",
    "norm2.color = norm2.color.apply(lambda str : str.title())\n",
    "norm2.mileage = norm2.mileage.apply(mileage_conv)"
   ]
  },
  {
   "cell_type": "code",
   "execution_count": 47,
   "id": "5dd9d633",
   "metadata": {},
   "outputs": [],
   "source": [
    "norm3 = norm2.copy()"
   ]
  },
  {
   "cell_type": "markdown",
   "id": "7f13a13f",
   "metadata": {},
   "source": [
    "_providing new order for columns in order to match target data_"
   ]
  },
  {
   "cell_type": "code",
   "execution_count": 48,
   "id": "838eeccd",
   "metadata": {},
   "outputs": [],
   "source": [
    "cols = [\n",
    "    'carType',\n",
    "    'color',\n",
    "    'condition',\n",
    "    'currency',\n",
    "    'drive',\n",
    "    'city',\n",
    "    'country',\n",
    "    'make',\n",
    "    'manufacture_year',\n",
    "    'mileage',\n",
    "    'mileage_unit',\n",
    "    'model',\n",
    "    'model_variant',\n",
    "    'price_on_request',\n",
    "    'type',\n",
    "    'zip',\n",
    "    'manufacture_month',\n",
    "    'fuel_consumption_unit'\n",
    "]\n",
    "\n",
    "norm3 = norm3.reindex(columns=cols)"
   ]
  },
  {
   "cell_type": "code",
   "execution_count": 54,
   "id": "e1ae5e40",
   "metadata": {},
   "outputs": [
    {
     "data": {
      "text/plain": [
       "(1153, 18)"
      ]
     },
     "execution_count": 54,
     "metadata": {},
     "output_type": "execute_result"
    }
   ],
   "source": [
    "norm3.shape"
   ]
  },
  {
   "cell_type": "markdown",
   "id": "dc5e8de9",
   "metadata": {},
   "source": [
    "_saving data to existing excel template_"
   ]
  },
  {
   "cell_type": "code",
   "execution_count": 50,
   "id": "ba71652a",
   "metadata": {},
   "outputs": [],
   "source": [
    "book = load_workbook('rawdata/extemp.xlsx')\n",
    "writer = pd.ExcelWriter('rawdata/extemp.xlsx', engine='openpyxl') \n",
    "writer.book = book\n",
    "writer.sheets = dict((ws.title, ws) for ws in book.worksheets)\n",
    "\n",
    "ex.to_excel(writer, \"preprocessing\", index=False)\n",
    "norm3.to_excel(writer, \"normalisation\", index=False)\n",
    "norm3.to_excel(writer, \"integration\", index=False, header=False, startrow=writer.sheets['integration'].max_row)\n",
    "\n",
    "for ws in writer.sheets.values():\n",
    "    removeFormatting(ws)\n",
    "\n",
    "writer.save()"
   ]
  }
 ],
 "metadata": {
  "kernelspec": {
   "display_name": "Python 3 (ipykernel)",
   "language": "python",
   "name": "python3"
  },
  "language_info": {
   "codemirror_mode": {
    "name": "ipython",
    "version": 3
   },
   "file_extension": ".py",
   "mimetype": "text/x-python",
   "name": "python",
   "nbconvert_exporter": "python",
   "pygments_lexer": "ipython3",
   "version": "3.8.9"
  }
 },
 "nbformat": 4,
 "nbformat_minor": 5
}
